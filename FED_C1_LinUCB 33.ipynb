{
 "cells": [
  {
   "cell_type": "code",
   "execution_count": 1,
   "metadata": {
    "id": "SOcz7W1h-Wyz"
   },
   "outputs": [],
   "source": [
    "import numpy as np\n",
    "import pandas as pd\n",
    "import matplotlib.pyplot as plt\n",
    "import seaborn as sns\n",
    "from scipy.linalg import sqrtm\n",
    "from scipy.sparse import csgraph\n",
    "from scipy import linalg\n",
    "import itertools"
   ]
  },
  {
   "cell_type": "code",
   "execution_count": 2,
   "metadata": {
    "id": "G7aA1kJx-rXQ"
   },
   "outputs": [],
   "source": [
    "N_TRIAL = 30000\n",
    "N_ARMS = 100 #N_ARMS -> number of clients\n",
    "N_FEATURE = 3\n",
    "M = 29"
   ]
  },
  {
   "cell_type": "code",
   "execution_count": 3,
   "metadata": {
    "colab": {
     "base_uri": "https://localhost:8080/"
    },
    "id": "qQu_861PvLYP",
    "outputId": "d82450eb-5ed3-4027-bdba-55c9c9c5c7cd"
   },
   "outputs": [],
   "source": [
    "# X --> TBD now using x_{it} = [1,t,t^2] for all client i\n",
    "Y_1 = np.genfromtxt('Y(noise0.1).csv',delimiter=',')\n",
    "W = np.genfromtxt('W(noise0.1).csv',delimiter=',')\n",
    "Beta = np.genfromtxt('Beta(noise0.1).csv',delimiter=',')"
   ]
  },
  {
   "cell_type": "code",
   "execution_count": 4,
   "metadata": {},
   "outputs": [],
   "source": [
    "oracle_lst = []\n",
    "true_choice = []\n",
    "new_y = -1 * Y_1 + 30 #\n",
    "for t in np.arange(N_TRIAL):\n",
    "  # Find indices of M highest arms\n",
    "  all_reward_t = [new_y.T[t, arm] for arm in np.arange(N_ARMS)]\n",
    "  chosen_arms = np.array(all_reward_t).argsort()[-M:][::-1]\n",
    "  # Sum of M highest rewards\n",
    "  oracle_payoff_t = np.sum([new_y.T[t, choice] for choice in chosen_arms])\n",
    "  # Append to the list\n",
    "  oracle_lst.append(oracle_payoff_t)\n",
    "  true_choice.append(chosen_arms)\n",
    "oracle_case1 = np.array(oracle_lst)"
   ]
  },
  {
   "cell_type": "code",
   "execution_count": 5,
   "metadata": {
    "id": "tkY0ktFs7JFZ"
   },
   "outputs": [],
   "source": [
    "# Create X_i = [1, t, t^2]\n",
    "X_1_lst = []\n",
    "for T in np.arange(N_TRIAL):\n",
    "  X_1t_lst = []\n",
    "  for arm in np.arange(N_ARMS):\n",
    "    temp = []\n",
    "    temp.append(1)\n",
    "    temp.append(0.001*(T+1))\n",
    "    temp.append((0.001*(T+1))**2)\n",
    "    X_1t_lst.append(np.array(temp))\n",
    "  X_1_lst.append(np.array(X_1t_lst))\n",
    "X_1 = np.array(X_1_lst)"
   ]
  },
  {
   "cell_type": "code",
   "execution_count": 6,
   "metadata": {},
   "outputs": [],
   "source": [
    "def make_regret(payoff, oracle):\n",
    "    return np.cumsum(oracle - payoff)\n",
    "\n",
    "def plot_regrets(results, oracle):\n",
    "    [plt.plot(make_regret(payoff=x['r_payoff'], oracle=oracle), label=\"alpha: \"+str(alpha)) for (alpha, x) in results.items()]"
   ]
  },
  {
   "cell_type": "code",
   "execution_count": 7,
   "metadata": {
    "id": "jYnR5QXctM2z"
   },
   "outputs": [],
   "source": [
    "# convert to a sparse matrix -> convert to a long sparse vector with flatten()\n",
    "def X_to_X_m(X, t, arm_choice, n_arms, n_feature): \n",
    "  X_m = np.copy(X[t])\n",
    "  for arm in np.arange(n_arms): # N x p\n",
    "    if arm not in arm_choice:\n",
    "      X_m[arm] = np.zeros(shape=n_feature)\n",
    "  return X_m"
   ]
  },
  {
   "cell_type": "code",
   "execution_count": 8,
   "metadata": {},
   "outputs": [],
   "source": [
    "#upload/download trigger\n",
    "#UPLOAD\n",
    "def upload(gammaU, IDclient, A_loc, A_up_buff): #, eta, n_clients, n_feature\n",
    "    numerator = linalg.det(A_loc[IDclient])\n",
    "    denominator = linalg.det(A_loc[IDclient] - A_up_buff[IDclient])\n",
    "    if denominator == 0:\n",
    "        return True\n",
    "    else:\n",
    "        check = numerator/denominator\n",
    "        return check > gammaU\n",
    "\n",
    "#DOWNLOAD\n",
    "def download(gammaD, IDclient, A_gob, A_down_buff): #, eta, n_clients, n_feature\n",
    "    numerator = linalg.det(A_gob)\n",
    "    denominator = linalg.det(A_gob - A_down_buff[IDclient]) #+ eta * np.identity(n=n_feature * n_clients)\n",
    "    if denominator == 0:\n",
    "        return True\n",
    "    else:\n",
    "        check = numerator/denominator\n",
    "        return check > gammaD"
   ]
  },
  {
   "cell_type": "code",
   "execution_count": 9,
   "metadata": {
    "id": "dTLVpSzg45Id"
   },
   "outputs": [],
   "source": [
    "def Fed_LinUCB(alpha, eta, X, Y, m, oracle, gammaU, gammaD):\n",
    "    n_trial, n_clients, n_feature = X.shape\n",
    "    \n",
    "    # 1.1.output object\n",
    "    r_payoff = np.empty(n_trial)\n",
    "    c_payoff = np.empty(n_trial)\n",
    "    cum_regret = np.empty(n_trial)\n",
    "    client_choice = np.empty(shape=(n_trial, m), dtype=int)\n",
    "    p = np.empty(shape=(n_trial, n_clients))\n",
    "    totalCommCost = 0\n",
    "    cum_totalCommCost = np.empty(n_trial)\n",
    "    \n",
    "    # 1.2. local statistics\n",
    "    A_loc = np.array([eta * np.identity(n=n_feature * n_clients) for _ in np.arange(n_clients)]) #np.zeros((n_feature * n_clients, n_feature * n_clients))\n",
    "    A_up_buff = np.array([np.zeros((n_feature * n_clients, n_feature * n_clients)) for _ in np.arange(n_clients)]) #np.zeros((n_feature * n_clients, n_feature * n_clients))\n",
    "    b_loc = np.array([np.zeros(shape=n_feature * n_clients)  for _ in np.arange(n_clients)])\n",
    "    b_up_buff = np.array([np.zeros(shape=n_feature * n_clients)  for _ in np.arange(n_clients)])\n",
    "    theta_loc = np.empty(shape=(n_trial, n_clients, n_feature* n_clients))\n",
    "    \n",
    "    # 1.3 Global statistics\n",
    "    A_gob = eta * np.identity(n=n_feature * n_clients) #np.zeros((n_feature * n_clients, n_feature * n_clients))\n",
    "    A_down_buff = np.array([np.zeros((n_feature * n_clients, n_feature * n_clients)) for _ in np.arange(n_clients)])  #np.zeros((n_feature * n_clients, n_feature * n_clients))\n",
    "    b_gob = np.zeros(shape=n_feature * n_clients)\n",
    "    b_down_buff = np.array([np.zeros(shape=n_feature * n_clients)  for _ in np.arange(n_clients)])\n",
    "    \n",
    "    # 2. Algorithm\n",
    "    for t in np.arange(n_trial):\n",
    "        # Compute estimates prediction (p) for all clients\n",
    "        for a in np.arange(n_clients):\n",
    "            inv_A = np.linalg.inv(A_loc[a])\n",
    "            theta_loc[t, a] = inv_A.dot(b_loc[a])\n",
    "            X_1_tr = (X_to_X_m(X, t, [a], n_clients, n_feature)).flatten()\n",
    "            p[t, a] = theta_loc[t, a].dot(X_1_tr) + alpha * np.sqrt(np.dot(np.dot(X_1_tr, inv_A), X_1_tr))\n",
    "            \n",
    "        # The central server chooses m best clients\n",
    "        idx = np.argpartition(p[t], -m)[-m:]\n",
    "        chosen_clients = idx[np.argsort(-(p[t])[idx])]\n",
    "        for i in np.arange(m):\n",
    "          client_choice[t][i] = chosen_clients[i]\n",
    "        \n",
    "        # Update local statistics based on following conditions\n",
    "        for chosen_client in client_choice[t]:\n",
    "            \n",
    "            # client local update\n",
    "            X_1_tr_chosen = (X_to_X_m(X, t, [chosen_client], n_clients, n_feature)).flatten()\n",
    "            A_loc[chosen_client] = A_loc[chosen_client] + np.outer(X_1_tr_chosen, X_1_tr_chosen)\n",
    "            b_loc[chosen_client] = b_loc[chosen_client] + Y[t, chosen_client] * X_1_tr_chosen\n",
    "            A_up_buff[chosen_client] = A_up_buff[chosen_client] + np.outer(X_1_tr_chosen, X_1_tr_chosen)\n",
    "            b_up_buff[chosen_client] = b_up_buff[chosen_client] + Y[t, chosen_client] * X_1_tr_chosen\n",
    "            \n",
    "            # check upload triggering event\n",
    "            if upload(gammaU, chosen_client, A_loc, A_up_buff): #, eta, n_clients, n_feature\n",
    "                totalCommCost += 1\n",
    "                \n",
    "                # update server's statistics\n",
    "                A_gob += A_up_buff[chosen_client]\n",
    "                b_gob += b_up_buff[chosen_client]\n",
    "                \n",
    "                # update server's download buffer for other clients\n",
    "                for clientID in np.arange(n_clients):\n",
    "                    if clientID != chosen_client:\n",
    "                        A_down_buff[clientID] += A_up_buff[chosen_client]\n",
    "                        b_down_buff[clientID] += b_up_buff[chosen_client]\n",
    "                        \n",
    "                # clear client's upload buffer\n",
    "                A_up_buff[chosen_client] = np.zeros((n_feature * n_clients, n_feature * n_clients))\n",
    "                b_up_buff[chosen_client] = np.zeros(shape=n_feature * n_clients)\n",
    "\n",
    "                # check download triggering event for all clients\n",
    "                for cli in np.arange(n_clients):\n",
    "                    if download(gammaD, cli, A_gob, A_down_buff): #, eta, n_clients, n_feature\n",
    "                        totalCommCost += 1\n",
    "                        \n",
    "                        # update client's local statistics, and clear server's download buffer\n",
    "                        A_loc[cli] += A_down_buff[cli]\n",
    "                        b_loc[cli] += b_down_buff[cli]\n",
    "                        \n",
    "                        # clear cserver's download buffer\n",
    "                        A_down_buff[cli] = np.zeros((n_feature * n_clients, n_feature * n_clients))\n",
    "                        b_down_buff[cli] = np.zeros(shape=n_feature * n_clients)\n",
    "            \n",
    "            #else: if do not pass the upload, then the statistics are still the same in local\n",
    "               \n",
    "        #else: for other clients not selected at round t, the statistics are still the same in local      \n",
    "        \n",
    "        # Cumulative regret\n",
    "        r_payoff[t] = np.sum([Y[t, choice] for choice in client_choice[t]])      \n",
    "        cum_regret[t] = np.sum(oracle[0:t+1] - r_payoff[0:t+1])\n",
    "        cum_totalCommCost[t] = totalCommCost\n",
    "        if (t+1) % 5000 == 0:\n",
    "            print('TRIAL:',t,'DONE', '| cum_regret:', cum_regret[t])\n",
    "            print('Total Communication cost:', totalCommCost)\n",
    "    \n",
    "    return dict(A_gob=A_gob, b_gob=b_gob, theta_loc=theta_loc, p=p, client_choice = client_choice, r_payoff=r_payoff, totalCommCost=totalCommCost, cum_totalCommCost=cum_totalCommCost)"
   ]
  },
  {
   "cell_type": "code",
   "execution_count": 10,
   "metadata": {
    "colab": {
     "base_uri": "https://localhost:8080/"
    },
    "id": "hjmDc_KQtnfd",
    "outputId": "fe5c555f-2f09-4410-ec8e-08f0ad5a663a"
   },
   "outputs": [
    {
     "name": "stdout",
     "output_type": "stream",
     "text": [
      "TRIAL: 4999 DONE | cum_regret: 5891.735347919745\n",
      "Total Communication cost: 3714000\n",
      "TRIAL: 9999 DONE | cum_regret: 7689.448995152369\n",
      "Total Communication cost: 3714000\n",
      "TRIAL: 14999 DONE | cum_regret: 8551.204069662588\n",
      "Total Communication cost: 3714000\n",
      "TRIAL: 19999 DONE | cum_regret: 9143.649610180611\n",
      "Total Communication cost: 3714000\n",
      "TRIAL: 24999 DONE | cum_regret: 9456.502041471595\n",
      "Total Communication cost: 3714000\n",
      "TRIAL: 29999 DONE | cum_regret: 9704.081627864914\n",
      "Total Communication cost: 3714000\n"
     ]
    }
   ],
   "source": [
    "# Run LinUCB\n",
    "alpha_to_test = [3.25]\n",
    "results_dict = {alpha: Fed_LinUCB(alpha = alpha, eta = 0.3, X=X_1, Y=(-1 * Y_1 + 30).T, m=M, oracle=oracle_case1, gammaU=1, gammaD=1)\\\n",
    "                for alpha in alpha_to_test}"
   ]
  },
  {
   "cell_type": "code",
   "execution_count": 11,
   "metadata": {},
   "outputs": [
    {
     "data": {
      "image/png": "[encoded data removed]",
      "text/plain": [
       "<Figure size 900x540 with 1 Axes>"
      ]
     },
     "metadata": {
      "needs_background": "light"
     },
     "output_type": "display_data"
    }
   ],
   "source": [
    "# Plot regrets\n",
    "plt.figure(figsize=(12.5, 7.5))\n",
    "plot_regrets(results_dict, oracle_case1)\n",
    "# plt.legend()\n",
    "# plt.legend(prop={'size': 12}, loc='right')\n",
    "plt.legend(loc='center left', bbox_to_anchor=(1, 0.5))\n",
    "plt.title(\"Regrets for various levels of alpha\")\n",
    "plt.show()"
   ]
  },
  {
   "cell_type": "code",
   "execution_count": 12,
   "metadata": {},
   "outputs": [],
   "source": [
    "# export regret data\n",
    "# test_lst = [make_regret(payoff=x['r_payoff'], oracle=oracle_case1) for (alpha, x) in results_dict.items()]\n",
    "# df = pd.DataFrame(test_lst[0]) #index 4 is for alpha = 10\n",
    "# df.to_csv('C2_GOBLin_regret_66_new.csv', header=False)\n",
    "# df.to_csv('fed_C1_LinUCB 33.csv', header=False) #(big)\n",
    "\n",
    "# test_lst = [x['cum_totalCommCost'] for (alpha, x) in results_dict.items()]\n",
    "# df = pd.DataFrame(test_lst[0]) #index 4 is for alpha = 10 \n",
    "# df.to_csv('C1_fedLinUCB_CommCost_29.csv', header=False)"
   ]
  },
  {
   "cell_type": "code",
   "execution_count": 13,
   "metadata": {},
   "outputs": [],
   "source": [
    "# 0 = 0, 1 = 1, 2 = 2.5, 3 = 5, 4 = 10, 5 = 20\n",
    "# export reward\n",
    "# test_lst = [x['c_payoff'] for (alpha, x) in results_dict.items()]\n",
    "# df = pd.DataFrame(test_lst[2]) #index 4 is for alpha = 10 \n",
    "# df.to_csv('C2_GOBLin_reward(big+0.9).csv', header=False)"
   ]
  },
  {
   "cell_type": "code",
   "execution_count": 14,
   "metadata": {},
   "outputs": [],
   "source": [
    "# fixed # alpha = 3.25/ gammaU = gammaD = 1\n",
    "# TRIAL: 4999 DONE | cum_regret: 5891.735347919745\n",
    "# Total Communication cost: 3714000\n",
    "# TRIAL: 9999 DONE | cum_regret: 7689.448995152369\n",
    "# Total Communication cost: 3714000\n",
    "# TRIAL: 14999 DONE | cum_regret: 8551.204069662588\n",
    "# Total Communication cost: 3714000\n",
    "# TRIAL: 19999 DONE | cum_regret: 9143.649610180611\n",
    "# Total Communication cost: 3714000\n",
    "# TRIAL: 24999 DONE | cum_regret: 9456.502041471595\n",
    "# Total Communication cost: 3714000\n",
    "# TRIAL: 29999 DONE | cum_regret: 9704.081627864914\n",
    "# Total Communication cost: 3714000\n",
    "\n",
    "# fixed # alpha = 3.25/ gammaU = gammaD = 2\n",
    "# TRIAL: 4999 DONE | cum_regret: 5891.735347919745\n",
    "# Total Communication cost: 130200\n",
    "# TRIAL: 9999 DONE | cum_regret: 7689.448995152369\n",
    "# Total Communication cost: 130200\n",
    "# TRIAL: 14999 DONE | cum_regret: 8551.204069662588\n",
    "# Total Communication cost: 130200\n",
    "# TRIAL: 19999 DONE | cum_regret: 9143.649610180611\n",
    "# Total Communication cost: 130200\n",
    "# TRIAL: 24999 DONE | cum_regret: 9456.502041471595\n",
    "# Total Communication cost: 130200\n",
    "# TRIAL: 29999 DONE | cum_regret: 9704.081627864914\n",
    "# Total Communication cost: 130200"
   ]
  }
 ],
 "metadata": {
  "colab": {
   "collapsed_sections": [],
   "name": "Case1.2 GOB.Lin (alpha=1,10).ipynb",
   "provenance": []
  },
  "kernelspec": {
   "display_name": "Python 3 (ipykernel)",
   "language": "python",
   "name": "python3"
  },
  "language_info": {
   "codemirror_mode": {
    "name": "ipython",
    "version": 3
   },
   "file_extension": ".py",
   "mimetype": "text/x-python",
   "name": "python",
   "nbconvert_exporter": "python",
   "pygments_lexer": "ipython3",
   "version": "3.7.4"
  }
 },
 "nbformat": 4,
 "nbformat_minor": 4
}
